{
  "nbformat": 4,
  "nbformat_minor": 0,
  "metadata": {
    "colab": {
      "name": "DataToApp.ipynb",
      "provenance": [],
      "collapsed_sections": [],
      "authorship_tag": "ABX9TyOgD3qVG//R6usu/b8fZMIJ",
      "include_colab_link": true
    },
    "kernelspec": {
      "name": "python3",
      "display_name": "Python 3"
    },
    "language_info": {
      "name": "python"
    }
  },
  "cells": [
    {
      "cell_type": "markdown",
      "metadata": {
        "id": "view-in-github",
        "colab_type": "text"
      },
      "source": [
        "<a href=\"https://colab.research.google.com/github/OliDeane/NewsTracker/blob/main/DataToApp.ipynb\" target=\"_parent\"><img src=\"https://colab.research.google.com/assets/colab-badge.svg\" alt=\"Open In Colab\"/></a>"
      ]
    },
    {
      "cell_type": "code",
      "metadata": {
        "id": "pyD06kCiCkN-"
      },
      "source": [
        "import pandas as pd"
      ],
      "execution_count": 1,
      "outputs": []
    },
    {
      "cell_type": "code",
      "metadata": {
        "id": "9LgBj8MESIfi"
      },
      "source": [
        "data = 'data_003_processed'"
      ],
      "execution_count": 42,
      "outputs": []
    },
    {
      "cell_type": "code",
      "metadata": {
        "id": "gFk7tO76Cxx9"
      },
      "source": [
        "p3 = pd.read_csv(f'/content/{data}.csv')\n",
        "tt = pd.read_csv('/content/topic_template.csv')"
      ],
      "execution_count": 43,
      "outputs": []
    },
    {
      "cell_type": "code",
      "metadata": {
        "id": "HYj_t26hD7k0"
      },
      "source": [
        "counts = p3['topic'].value_counts()"
      ],
      "execution_count": 44,
      "outputs": []
    },
    {
      "cell_type": "code",
      "metadata": {
        "id": "O8LA7Tb5PSE8"
      },
      "source": [
        "t_list = ['comp, graphics', \n",
        "          'comp, os, ms-windows, misc', \n",
        "          'comp, sys, ibm, pc, hardware', \n",
        "          'comp, sys, mac, hardware',\n",
        "          'comp, windows, x',\n",
        "          'misc, forsale',\n",
        "          'rec, autos',\n",
        "          'rec, motorcycles',\n",
        "          'rec, sport, baseball',\n",
        "          'rec, sport, hockey',\n",
        "          'talk, politics, guns',\n",
        "          'talk, politics, misc',\n",
        "          'talk, politics, mideast',\n",
        "          'sci, crypt',\n",
        "          'sci, electronics',\n",
        "          'sci, med',\n",
        "          'sci, space',\n",
        "          'talk, religion, misc',\n",
        "          'alt, atheism',\n",
        "          'soc, religion, christian']"
      ],
      "execution_count": 45,
      "outputs": []
    },
    {
      "cell_type": "code",
      "metadata": {
        "id": "AyBKudrPC67C"
      },
      "source": [
        "for i,t in enumerate(t_list):\n",
        "  for topic, value in counts.items():\n",
        "    if t == topic:\n",
        "      tt.loc[i, 'Value'] = value"
      ],
      "execution_count": 46,
      "outputs": []
    },
    {
      "cell_type": "code",
      "metadata": {
        "colab": {
          "base_uri": "https://localhost:8080/"
        },
        "id": "5rPiLxz8LutF",
        "outputId": "92c90fc6-b57c-46dc-9091-beea6c77ac75"
      },
      "source": [
        "#check correspondence\n",
        "tt, counts"
      ],
      "execution_count": 47,
      "outputs": [
        {
          "output_type": "execute_result",
          "data": {
            "text/plain": [
              "(        Topic 0        Topic 1       Topic 2  ...        Topic 4   Topic 5 Value\n",
              " 0   News Topics      Computing      Graphics  ...            NaN       NaN    37\n",
              " 1   News Topics      Computing            OS  ...  Miscellaneous       NaN     1\n",
              " 2   News Topics      Computing        System  ...             PC  Hardware     1\n",
              " 3   News Topics      Computing        System  ...       Hardware       NaN     6\n",
              " 4   News Topics      Computing       Windows  ...            NaN       NaN     4\n",
              " 5   News Topics  Miscellaneous      For Sale  ...            NaN       NaN    89\n",
              " 6   News Topics     Recreation   Automobiles  ...            NaN       NaN     3\n",
              " 7   News Topics     Recreation   Motorcycles  ...            NaN       NaN    17\n",
              " 8   News Topics     Recreation         Sport  ...            NaN       NaN   113\n",
              " 9   News Topics     Recreation         Sport  ...            NaN       NaN    41\n",
              " 10  News Topics           Talk      Politics  ...            NaN       NaN     4\n",
              " 11  News Topics           Talk      Politics  ...            NaN       NaN   136\n",
              " 12  News Topics           Talk      Politics  ...            NaN       NaN     2\n",
              " 13  News Topics        Science  Cryptography  ...            NaN       NaN    20\n",
              " 14  News Topics        Science   Electronics  ...            NaN       NaN    57\n",
              " 15  News Topics        Science      Medicine  ...            NaN       NaN   145\n",
              " 16  News Topics        Science         Space  ...            NaN       NaN    26\n",
              " 17  News Topics           Talk      Religion  ...            NaN       NaN    46\n",
              " 18  News Topics    Alternative       Atheism  ...            NaN       NaN     9\n",
              " 19  News Topics        Society      Religion  ...            NaN       NaN    20\n",
              " \n",
              " [20 rows x 7 columns], sci, med                        145\n",
              " talk, politics, misc            136\n",
              " rec, sport, baseball            113\n",
              " misc, forsale                    89\n",
              " sci, electronics                 57\n",
              " talk, religion, misc             46\n",
              " rec, sport, hockey               41\n",
              " comp, graphics                   37\n",
              " sci, space                       26\n",
              " sci, crypt                       20\n",
              " soc, religion, christian         20\n",
              " rec, motorcycles                 17\n",
              " alt, atheism                      9\n",
              " comp, sys, mac, hardware          6\n",
              " comp, windows, x                  4\n",
              " talk, politics, guns              4\n",
              " rec, autos                        3\n",
              " talk, politics, mideast           2\n",
              " comp, os, ms-windows, misc        1\n",
              " comp, sys, ibm, pc, hardware      1\n",
              " Name: topic, dtype: int64)"
            ]
          },
          "metadata": {
            "tags": []
          },
          "execution_count": 47
        }
      ]
    },
    {
      "cell_type": "code",
      "metadata": {
        "id": "7FJRMt12NOLO"
      },
      "source": [
        "tt.to_csv(f'/content/0002.csv')"
      ],
      "execution_count": 49,
      "outputs": []
    },
    {
      "cell_type": "code",
      "metadata": {
        "id": "6IxBeHa6VhN7"
      },
      "source": [
        "p_list = ['talk, politics, guns',\n",
        "          'talk, politics, misc',\n",
        "          'talk, politics, mideast',\n",
        "          'talk, religion, misc']"
      ],
      "execution_count": 55,
      "outputs": []
    },
    {
      "cell_type": "code",
      "metadata": {
        "id": "60fxaJRSnwY7"
      },
      "source": [
        "#click through rate (1-10%)\n",
        "ctr = 10"
      ],
      "execution_count": 96,
      "outputs": []
    },
    {
      "cell_type": "code",
      "metadata": {
        "id": "RYqGcdVvSWvL"
      },
      "source": [
        "pol = p3[['topic', 'political_alignment']]\n",
        "pol = pol.loc[pol['topic'].isin(p_list)]\n",
        "pol_count = pol['political_alignment'].value_counts()\n",
        "pol_count = pd.DataFrame(pol_count).transpose().reset_index(drop=True).rename(columns={'Liberal': 'left_count', 'Conservative': 'right_count'})//ctr"
      ],
      "execution_count": 97,
      "outputs": []
    },
    {
      "cell_type": "code",
      "metadata": {
        "colab": {
          "base_uri": "https://localhost:8080/",
          "height": 80
        },
        "id": "WvQ8MfvrY-6W",
        "outputId": "d9b3a2fa-1d10-46ab-c50d-332502c596b6"
      },
      "source": [
        "#check count is in a reasonable range (0-20) \n",
        "pol_count"
      ],
      "execution_count": 98,
      "outputs": [
        {
          "output_type": "execute_result",
          "data": {
            "text/html": [
              "<div>\n",
              "<style scoped>\n",
              "    .dataframe tbody tr th:only-of-type {\n",
              "        vertical-align: middle;\n",
              "    }\n",
              "\n",
              "    .dataframe tbody tr th {\n",
              "        vertical-align: top;\n",
              "    }\n",
              "\n",
              "    .dataframe thead th {\n",
              "        text-align: right;\n",
              "    }\n",
              "</style>\n",
              "<table border=\"1\" class=\"dataframe\">\n",
              "  <thead>\n",
              "    <tr style=\"text-align: right;\">\n",
              "      <th></th>\n",
              "      <th>left_count</th>\n",
              "      <th>right_count</th>\n",
              "    </tr>\n",
              "  </thead>\n",
              "  <tbody>\n",
              "    <tr>\n",
              "      <th>0</th>\n",
              "      <td>10</td>\n",
              "      <td>8</td>\n",
              "    </tr>\n",
              "  </tbody>\n",
              "</table>\n",
              "</div>"
            ],
            "text/plain": [
              "   left_count  right_count\n",
              "0          10            8"
            ]
          },
          "metadata": {
            "tags": []
          },
          "execution_count": 98
        }
      ]
    },
    {
      "cell_type": "code",
      "metadata": {
        "id": "He7-Uu0PWV9q"
      },
      "source": [
        "pol_count.to_csv(f'/content/0001.csv', index = False)"
      ],
      "execution_count": 92,
      "outputs": []
    }
  ]
}